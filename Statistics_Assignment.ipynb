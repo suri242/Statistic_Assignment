{
 "cells": [
  {
   "cell_type": "markdown",
   "id": "82334264",
   "metadata": {},
   "source": [
    "## 1.  <b>According to a study, the daily average time spent by a user on a social media website is 50 minutes. To test the claim of this study, Ramesh, a researcher, takes a sample of 25 website users and finds out that the mean time spent by the sample users is 60 minutes and the sample standard deviation is 30 minutes. Based on this information, the null and the alternative hypotheses will be: Ho = The average time spent by the users is 50 minutes H1 = The average time spent by the users is not 50 minutes Use a 5% significance level to test this hypothesis."
   ]
  },
  {
   "cell_type": "code",
   "execution_count": 1,
   "id": "475a9ddf",
   "metadata": {},
   "outputs": [
    {
     "name": "stdout",
     "output_type": "stream",
     "text": [
      "The average time spent by the user is 50 minutes\n"
     ]
    }
   ],
   "source": [
    "import math\n",
    "import scipy.stats as stats\n",
    "\n",
    "n=25\n",
    "mu=50\n",
    "x_bar=60\n",
    "s=30\n",
    "alpha=0.05\n",
    "\n",
    "# Calculate the t-statistic\n",
    "t=(x_bar-mu)\n",
    "k=(s/math.sqrt(n))\n",
    "z=t/k\n",
    "\n",
    "\n",
    "# Find the critical t-value\n",
    "\n",
    "df=n-1\n",
    "t_crit= abs(stats.t.ppf(alpha/2, df))\n",
    "\n",
    "\n",
    "# Check if the calculated t-value is outside the critical region\n",
    "\n",
    "if abs(z)>t_crit:\n",
    "    print(\"The average time spent by the user is not 50 minutes\")\n",
    "    \n",
    "else:\n",
    "    print(\"The average time spent by the user is 50 minutes\")"
   ]
  },
  {
   "cell_type": "markdown",
   "id": "f2b3357a",
   "metadata": {},
   "source": [
    "### Sol1. The average time spent by the users is 50 minutes"
   ]
  },
  {
   "cell_type": "markdown",
   "id": "35f00ea5",
   "metadata": {},
   "source": [
    "## 2. <b>Height of 7 students (in cm) is given below. What is the median? 168 170 169 160 162 164 162."
   ]
  },
  {
   "cell_type": "code",
   "execution_count": 2,
   "id": "59427006",
   "metadata": {},
   "outputs": [],
   "source": [
    "l_median=[160,162,162,164,168,169,170]"
   ]
  },
  {
   "cell_type": "code",
   "execution_count": 3,
   "id": "92043820",
   "metadata": {},
   "outputs": [
    {
     "data": {
      "text/plain": [
       "164.0"
      ]
     },
     "execution_count": 3,
     "metadata": {},
     "output_type": "execute_result"
    }
   ],
   "source": [
    "import numpy as np\n",
    "np.median(l_median)"
   ]
  },
  {
   "cell_type": "markdown",
   "id": "60f90c4d",
   "metadata": {},
   "source": [
    "### Sol2.  <b> Median is 164"
   ]
  },
  {
   "cell_type": "markdown",
   "id": "91d2eddb",
   "metadata": {},
   "source": [
    "## 3. Below are the observations of the marks of a student. Find the value of mode. 84 85 89 92 93 89 87 89 92"
   ]
  },
  {
   "cell_type": "code",
   "execution_count": 4,
   "id": "bb3f7ea5",
   "metadata": {},
   "outputs": [
    {
     "data": {
      "text/plain": [
       "ModeResult(mode=array([89]), count=array([3]))"
      ]
     },
     "execution_count": 4,
     "metadata": {},
     "output_type": "execute_result"
    }
   ],
   "source": [
    "data=[ 84,85,89,92,93,89,87,89,92]\n",
    "\n",
    "mode=stats.mode(data)\n",
    "mode"
   ]
  },
  {
   "cell_type": "markdown",
   "id": "d1746a94",
   "metadata": {},
   "source": [
    "### Sol3. The average time spent by the users is 50 minutes"
   ]
  },
  {
   "cell_type": "markdown",
   "id": "33be70db",
   "metadata": {},
   "source": [
    "## 4. From the table given below, what is the mean of marks obtained by 20 students? Marks Xi: 3, 4, 5, 6 ,7 ,8 ,9 ,10\n",
    "\n",
    "<b> No. of Students fi: 1, 2, 2, 4, 5, 3, 2, 1"
   ]
  },
  {
   "cell_type": "code",
   "execution_count": 5,
   "id": "72356a17",
   "metadata": {},
   "outputs": [],
   "source": [
    "data={\"Marks\" : [3,4,5,6,7,8,9,10],\n",
    "     \"No. of students\" : [1,2,2,4,5,3,2,1]}"
   ]
  },
  {
   "cell_type": "code",
   "execution_count": 6,
   "id": "4fcc6081",
   "metadata": {},
   "outputs": [],
   "source": [
    "import pandas as pd"
   ]
  },
  {
   "cell_type": "code",
   "execution_count": 7,
   "id": "3e63a9f2",
   "metadata": {},
   "outputs": [],
   "source": [
    "df=pd.DataFrame(data)"
   ]
  },
  {
   "cell_type": "code",
   "execution_count": 8,
   "id": "4628a53f",
   "metadata": {},
   "outputs": [
    {
     "data": {
      "text/plain": [
       "20"
      ]
     },
     "execution_count": 8,
     "metadata": {},
     "output_type": "execute_result"
    }
   ],
   "source": [
    "df[\"No. of students\"].sum()"
   ]
  },
  {
   "cell_type": "code",
   "execution_count": 9,
   "id": "6f430e30",
   "metadata": {},
   "outputs": [],
   "source": [
    "df[\"xiFi\"]=df[\"Marks\"]*df[\"No. of students\"]"
   ]
  },
  {
   "cell_type": "code",
   "execution_count": 10,
   "id": "caffc0c3",
   "metadata": {},
   "outputs": [
    {
     "data": {
      "text/html": [
       "<div>\n",
       "<style scoped>\n",
       "    .dataframe tbody tr th:only-of-type {\n",
       "        vertical-align: middle;\n",
       "    }\n",
       "\n",
       "    .dataframe tbody tr th {\n",
       "        vertical-align: top;\n",
       "    }\n",
       "\n",
       "    .dataframe thead th {\n",
       "        text-align: right;\n",
       "    }\n",
       "</style>\n",
       "<table border=\"1\" class=\"dataframe\">\n",
       "  <thead>\n",
       "    <tr style=\"text-align: right;\">\n",
       "      <th></th>\n",
       "      <th>Marks</th>\n",
       "      <th>No. of students</th>\n",
       "      <th>xiFi</th>\n",
       "    </tr>\n",
       "  </thead>\n",
       "  <tbody>\n",
       "    <tr>\n",
       "      <th>0</th>\n",
       "      <td>3</td>\n",
       "      <td>1</td>\n",
       "      <td>3</td>\n",
       "    </tr>\n",
       "    <tr>\n",
       "      <th>1</th>\n",
       "      <td>4</td>\n",
       "      <td>2</td>\n",
       "      <td>8</td>\n",
       "    </tr>\n",
       "    <tr>\n",
       "      <th>2</th>\n",
       "      <td>5</td>\n",
       "      <td>2</td>\n",
       "      <td>10</td>\n",
       "    </tr>\n",
       "    <tr>\n",
       "      <th>3</th>\n",
       "      <td>6</td>\n",
       "      <td>4</td>\n",
       "      <td>24</td>\n",
       "    </tr>\n",
       "    <tr>\n",
       "      <th>4</th>\n",
       "      <td>7</td>\n",
       "      <td>5</td>\n",
       "      <td>35</td>\n",
       "    </tr>\n",
       "    <tr>\n",
       "      <th>5</th>\n",
       "      <td>8</td>\n",
       "      <td>3</td>\n",
       "      <td>24</td>\n",
       "    </tr>\n",
       "    <tr>\n",
       "      <th>6</th>\n",
       "      <td>9</td>\n",
       "      <td>2</td>\n",
       "      <td>18</td>\n",
       "    </tr>\n",
       "    <tr>\n",
       "      <th>7</th>\n",
       "      <td>10</td>\n",
       "      <td>1</td>\n",
       "      <td>10</td>\n",
       "    </tr>\n",
       "  </tbody>\n",
       "</table>\n",
       "</div>"
      ],
      "text/plain": [
       "   Marks  No. of students  xiFi\n",
       "0      3                1     3\n",
       "1      4                2     8\n",
       "2      5                2    10\n",
       "3      6                4    24\n",
       "4      7                5    35\n",
       "5      8                3    24\n",
       "6      9                2    18\n",
       "7     10                1    10"
      ]
     },
     "execution_count": 10,
     "metadata": {},
     "output_type": "execute_result"
    }
   ],
   "source": [
    "df"
   ]
  },
  {
   "cell_type": "code",
   "execution_count": 11,
   "id": "f771786f",
   "metadata": {},
   "outputs": [
    {
     "data": {
      "text/plain": [
       "16.5"
      ]
     },
     "execution_count": 11,
     "metadata": {},
     "output_type": "execute_result"
    }
   ],
   "source": [
    "df[\"xiFi\"].mean()"
   ]
  },
  {
   "cell_type": "markdown",
   "id": "9f9152ab",
   "metadata": {},
   "source": [
    "### Sol4.  Mean is 16.5"
   ]
  },
  {
   "cell_type": "markdown",
   "id": "31d07f3b",
   "metadata": {},
   "source": [
    "## 5. For a certain type of computer, the length of time between charges of the battery is normally distributed with a mean of 50 hours and a standard deviation of 15 hours. John owns one of these computers and wants to know the probability that the length of time will be between 50 and 70 hours.\n"
   ]
  },
  {
   "cell_type": "markdown",
   "id": "10bd1d74",
   "metadata": {},
   "source": [
    "## Sol5. Z – Score = ( X – μ ) / σ\n",
    "Where,\n",
    "X is a normal random variable<br>\n",
    "μ is the average or the mean<br>\n",
    "σ is the standard deviation<br>\n",
    "For X = 50:<br>\n",
    "Z1 = (50 - 50) / 15 = 0<br>\n",
    "For X = 70:<br>\n",
    "Z2 = (70 - 50) / 15 = 1.33333…<br>\n",
    "The probability that Z is between 0 and 1.333… is:<br>\n",
    "P(0 ≤ Z ≤ 1.33)<br>\n",
    "0.5000 ≤ Z ≤ 0.9082 Therefore, the probability that the length of time between charges computer battery will be between 50 and 70 hours is 0.4082 or approximately 40.82%."
   ]
  },
  {
   "cell_type": "markdown",
   "id": "c32cc059",
   "metadata": {},
   "source": [
    "## 6. Find the range of the following. g = [10, 23, 12, 21, 14, 17, 16, 11, 15, 19] "
   ]
  },
  {
   "cell_type": "markdown",
   "id": "1a249229",
   "metadata": {},
   "source": [
    "### Sol6. Range = Highest – Lowest Range = 23 – 10 Range = 13"
   ]
  },
  {
   "cell_type": "markdown",
   "id": "328ce64f",
   "metadata": {},
   "source": [
    "## 7. It is estimated that 50% of emails are spam emails. Some software has been applied to filter these spam emails before they reach your inbox. A certain brand of software claims that it can detect 99% of spam emails, and the probability for a false positive (a non-spam 2 email detected as spam) is 5%. Now if an email is detected as spam, then what is the probability that it is in fact a non-spam email?"
   ]
  },
  {
   "cell_type": "markdown",
   "id": "e590246e",
   "metadata": {},
   "source": [
    "#### Sol7. P(spam) = 50% or 0.50 <br>P(not a spam) = 50% or 0.50<br> P(positive|spam) = 99% or 0.99 <br>P(positive|not a spam) = 5% or 0.05 <br>We want to calculate the probability that an email is a non-spam email (NS) given that the software detected it as spam (F). This is written as P(not a spam|positive). <br>P(A|B) = P(A) * P(B|A) / P(B)<br>P(not a spam|positive) = P(not a spam) * P(positive|not a spam) / P(positive)<br> We have to find P(positive) <br>Therefore, P(positive) = P(positive|spam) * P(spam) + P(positive|not a spam) * P(not a spam)<br> = 0.99 * 0.50 + 0.05 * 0.50 <br>= 0.52<br> Now, P(not a spam|positive) = P(not a spam) * P(positive|not a spam) / P(positive) <br>= 0.50 * 0.05 / 0.52 <br>= 0.048 <br>The probability that an email detected as spam by the software is actually a non-spam email is 0.048 or approximately 4.8%. The software claims to have a 99% detection rate for spam emails, but there is still a chance that it will misclassify a non-spam email as spam."
   ]
  },
  {
   "cell_type": "markdown",
   "id": "ac7897de",
   "metadata": {},
   "source": [
    "## 8. Given the following distribution of returns, determine the lower quartile: {10 25 12 21 19 17 16 11 15 19}."
   ]
  },
  {
   "cell_type": "code",
   "execution_count": 12,
   "id": "9aae5db6",
   "metadata": {},
   "outputs": [],
   "source": [
    "qr=[10,25,12,21,19,17,16,11,15,19]"
   ]
  },
  {
   "cell_type": "code",
   "execution_count": 13,
   "id": "25b9fe3e",
   "metadata": {},
   "outputs": [
    {
     "data": {
      "text/plain": [
       "[10, 11, 12, 15, 16, 17, 19, 19, 21, 25]"
      ]
     },
     "execution_count": 13,
     "metadata": {},
     "output_type": "execute_result"
    }
   ],
   "source": [
    "list.sort(qr)\n",
    "qr"
   ]
  },
  {
   "cell_type": "code",
   "execution_count": 14,
   "id": "123107b7",
   "metadata": {},
   "outputs": [
    {
     "data": {
      "text/plain": [
       "array([10.  , 12.75, 16.5 , 19.  , 25.  ])"
      ]
     },
     "execution_count": 14,
     "metadata": {},
     "output_type": "execute_result"
    }
   ],
   "source": [
    "np.quantile(qr,[0,0.25,0.5,0.75,1])"
   ]
  },
  {
   "cell_type": "markdown",
   "id": "0c3b65b3",
   "metadata": {},
   "source": [
    "#### Sol8. Lower Quartile 12.75"
   ]
  },
  {
   "cell_type": "markdown",
   "id": "a9ce3248",
   "metadata": {},
   "source": [
    "## 9. For a Binomial distribution, the number of trials(n) is 25, and the probability of success is 0.3. What’s the variability of the distribution?"
   ]
  },
  {
   "cell_type": "markdown",
   "id": "1c722ee1",
   "metadata": {},
   "source": [
    "#### Sol9. Probability of success = 0.3<br> Probability of failure = 1 - Probability of success <br>= 1 – 03 <br>= 0.7 Variance = trials * Probability of success * Probability of failure<br> = 25 * 0.3 * 0.7<br> = 5.25<br> Standard Deviation = √𝑉𝑎𝑟𝑖𝑎𝑛𝑐𝑒 <br>= √5.25 <br>= 2.29"
   ]
  },
  {
   "cell_type": "markdown",
   "id": "264dce49",
   "metadata": {},
   "source": [
    "## 10. Download the Cell Phone Survey Dataset and perform the below mentioned operations on the dataset"
   ]
  },
  {
   "cell_type": "markdown",
   "id": "c7f383c4",
   "metadata": {},
   "source": [
    "#### ● Checking datatypes of each column in the dataset"
   ]
  },
  {
   "cell_type": "code",
   "execution_count": 15,
   "id": "097592a2",
   "metadata": {},
   "outputs": [],
   "source": [
    "import statistics as sst"
   ]
  },
  {
   "cell_type": "code",
   "execution_count": 16,
   "id": "b23acc52",
   "metadata": {},
   "outputs": [],
   "source": [
    "\n",
    "df1=pd.read_csv(\"E:\\Cell Phone Survey.csv\")"
   ]
  },
  {
   "cell_type": "code",
   "execution_count": 17,
   "id": "150082dc",
   "metadata": {},
   "outputs": [
    {
     "data": {
      "text/html": [
       "<div>\n",
       "<style scoped>\n",
       "    .dataframe tbody tr th:only-of-type {\n",
       "        vertical-align: middle;\n",
       "    }\n",
       "\n",
       "    .dataframe tbody tr th {\n",
       "        vertical-align: top;\n",
       "    }\n",
       "\n",
       "    .dataframe thead th {\n",
       "        text-align: right;\n",
       "    }\n",
       "</style>\n",
       "<table border=\"1\" class=\"dataframe\">\n",
       "  <thead>\n",
       "    <tr style=\"text-align: right;\">\n",
       "      <th></th>\n",
       "      <th>Gender</th>\n",
       "      <th>Carrier</th>\n",
       "      <th>Type</th>\n",
       "      <th>Usage</th>\n",
       "      <th>Signal strength</th>\n",
       "      <th>Value for the Dollar</th>\n",
       "      <th>Customer Service</th>\n",
       "    </tr>\n",
       "  </thead>\n",
       "  <tbody>\n",
       "    <tr>\n",
       "      <th>0</th>\n",
       "      <td>M</td>\n",
       "      <td>AT&amp;T</td>\n",
       "      <td>Smart</td>\n",
       "      <td>High</td>\n",
       "      <td>5</td>\n",
       "      <td>4</td>\n",
       "      <td>4</td>\n",
       "    </tr>\n",
       "    <tr>\n",
       "      <th>1</th>\n",
       "      <td>M</td>\n",
       "      <td>AT&amp;T</td>\n",
       "      <td>Smart</td>\n",
       "      <td>High</td>\n",
       "      <td>5</td>\n",
       "      <td>4</td>\n",
       "      <td>2</td>\n",
       "    </tr>\n",
       "    <tr>\n",
       "      <th>2</th>\n",
       "      <td>M</td>\n",
       "      <td>AT&amp;T</td>\n",
       "      <td>Smart</td>\n",
       "      <td>Average</td>\n",
       "      <td>4</td>\n",
       "      <td>4</td>\n",
       "      <td>4</td>\n",
       "    </tr>\n",
       "    <tr>\n",
       "      <th>3</th>\n",
       "      <td>M</td>\n",
       "      <td>AT&amp;T</td>\n",
       "      <td>Smart</td>\n",
       "      <td>Very high</td>\n",
       "      <td>2</td>\n",
       "      <td>3</td>\n",
       "      <td>3</td>\n",
       "    </tr>\n",
       "    <tr>\n",
       "      <th>4</th>\n",
       "      <td>M</td>\n",
       "      <td>AT&amp;T</td>\n",
       "      <td>Smart</td>\n",
       "      <td>Very high</td>\n",
       "      <td>5</td>\n",
       "      <td>5</td>\n",
       "      <td>2</td>\n",
       "    </tr>\n",
       "  </tbody>\n",
       "</table>\n",
       "</div>"
      ],
      "text/plain": [
       "  Gender Carrier   Type      Usage  Signal strength  Value for the Dollar  \\\n",
       "0      M    AT&T  Smart       High                5                     4   \n",
       "1      M    AT&T  Smart       High                5                     4   \n",
       "2      M    AT&T  Smart    Average                4                     4   \n",
       "3      M    AT&T  Smart  Very high                2                     3   \n",
       "4      M    AT&T  Smart  Very high                5                     5   \n",
       "\n",
       "   Customer Service  \n",
       "0                 4  \n",
       "1                 2  \n",
       "2                 4  \n",
       "3                 3  \n",
       "4                 2  "
      ]
     },
     "execution_count": 17,
     "metadata": {},
     "output_type": "execute_result"
    }
   ],
   "source": [
    "df1.head()"
   ]
  },
  {
   "cell_type": "code",
   "execution_count": 18,
   "id": "836de0dd",
   "metadata": {},
   "outputs": [
    {
     "data": {
      "text/plain": [
       "Gender                  object\n",
       "Carrier                 object\n",
       "Type                    object\n",
       "Usage                   object\n",
       "Signal strength          int64\n",
       "Value for the Dollar     int64\n",
       "Customer Service         int64\n",
       "dtype: object"
      ]
     },
     "execution_count": 18,
     "metadata": {},
     "output_type": "execute_result"
    }
   ],
   "source": [
    "# Checking datatypes of each columns in the dataset.\n",
    "df1.dtypes"
   ]
  },
  {
   "cell_type": "markdown",
   "id": "897ca3f4",
   "metadata": {},
   "source": [
    "#### ● Find Mean of Signal strength column using Pandas and Statistics library"
   ]
  },
  {
   "cell_type": "code",
   "execution_count": 19,
   "id": "454a299e",
   "metadata": {},
   "outputs": [
    {
     "name": "stdout",
     "output_type": "stream",
     "text": [
      "The mean using pandas function for signal Strength is  3.31\n"
     ]
    }
   ],
   "source": [
    "print(\"The mean using pandas function for signal Strength is \", round(df1[\"Signal strength\"].mean(),2))"
   ]
  },
  {
   "cell_type": "code",
   "execution_count": 20,
   "id": "6953ea5b",
   "metadata": {},
   "outputs": [
    {
     "name": "stdout",
     "output_type": "stream",
     "text": [
      "The mean using pandas function for signal Strength is  3\n"
     ]
    }
   ],
   "source": [
    "print(\"The mean using pandas function for signal Strength is \", round(sst.mean(df1[\"Signal strength\"])))"
   ]
  },
  {
   "cell_type": "markdown",
   "id": "10cce489",
   "metadata": {},
   "source": [
    "#### ● Find Median of Customer Service column using Pandas and Statistics library"
   ]
  },
  {
   "cell_type": "code",
   "execution_count": 21,
   "id": "55818e7e",
   "metadata": {},
   "outputs": [
    {
     "name": "stdout",
     "output_type": "stream",
     "text": [
      "The mean using pandas function for signal Strength is  3.0\n"
     ]
    }
   ],
   "source": [
    "print(\"The mean using pandas function for signal Strength is \", round(df1[\"Customer Service\"].median(),2))"
   ]
  },
  {
   "cell_type": "code",
   "execution_count": 22,
   "id": "ce970ac5",
   "metadata": {},
   "outputs": [
    {
     "name": "stdout",
     "output_type": "stream",
     "text": [
      "The mean using pandas function for signal Strength is  3\n"
     ]
    }
   ],
   "source": [
    "print(\"The mean using pandas function for signal Strength is \", round(sst.median(df1[\"Customer Service\"])))"
   ]
  },
  {
   "cell_type": "markdown",
   "id": "86569ce8",
   "metadata": {},
   "source": [
    "#### ● Find Mode of Signal strength column using Pandas and Statistics library"
   ]
  },
  {
   "cell_type": "code",
   "execution_count": 23,
   "id": "ec893123",
   "metadata": {},
   "outputs": [
    {
     "name": "stdout",
     "output_type": "stream",
     "text": [
      "The mean using pandas function for signal Strength is  0    3\n",
      "Name: Signal strength, dtype: int64\n"
     ]
    }
   ],
   "source": [
    "print(\"The mean using pandas function for signal Strength is \", round(df1[\"Signal strength\"].mode(),2))"
   ]
  },
  {
   "cell_type": "code",
   "execution_count": 24,
   "id": "c67de99f",
   "metadata": {},
   "outputs": [
    {
     "name": "stdout",
     "output_type": "stream",
     "text": [
      "The mean using pandas function for signal Strength is  3\n"
     ]
    }
   ],
   "source": [
    "print(\"The mean using pandas function for signal Strength is \", round(sst.mode(df1[\"Signal strength\"])))"
   ]
  },
  {
   "cell_type": "markdown",
   "id": "7ace56f3",
   "metadata": {},
   "source": [
    "#### ● Find Standard deviation of Customer Service column using Pandas and Statistics library"
   ]
  },
  {
   "cell_type": "code",
   "execution_count": 25,
   "id": "414110e8",
   "metadata": {},
   "outputs": [
    {
     "name": "stdout",
     "output_type": "stream",
     "text": [
      "The mean using pandas function for signal Strength is  0.96\n"
     ]
    }
   ],
   "source": [
    "print(\"The mean using pandas function for signal Strength is \", round(df1[\"Customer Service\"].std(),2))"
   ]
  },
  {
   "cell_type": "code",
   "execution_count": 26,
   "id": "496bb18e",
   "metadata": {},
   "outputs": [
    {
     "name": "stdout",
     "output_type": "stream",
     "text": [
      "The mean using pandas function for signal Strength is  1\n"
     ]
    }
   ],
   "source": [
    "print(\"The mean using pandas function for signal Strength is \", round(sst.stdev(df1[\"Customer Service\"])))"
   ]
  },
  {
   "cell_type": "markdown",
   "id": "5a373369",
   "metadata": {},
   "source": [
    "#### ● Find Variance of Customer Service column using Pandas and Statistics library"
   ]
  },
  {
   "cell_type": "code",
   "execution_count": 27,
   "id": "5bf06d3a",
   "metadata": {},
   "outputs": [
    {
     "name": "stdout",
     "output_type": "stream",
     "text": [
      "The mean using pandas function for signal Strength is  0.93\n"
     ]
    }
   ],
   "source": [
    "print(\"The mean using pandas function for signal Strength is \", round(df1[\"Customer Service\"].var(),2))"
   ]
  },
  {
   "cell_type": "code",
   "execution_count": 28,
   "id": "eaa55953",
   "metadata": {},
   "outputs": [
    {
     "name": "stdout",
     "output_type": "stream",
     "text": [
      "The mean using pandas function for signal Strength is  1\n"
     ]
    }
   ],
   "source": [
    "print(\"The mean using pandas function for signal Strength is \", round(sst.variance(df1[\"Customer Service\"])))"
   ]
  },
  {
   "cell_type": "markdown",
   "id": "ddfe3f09",
   "metadata": {},
   "source": [
    "#### ● Calculate Percentiles of Value for the Dollar column using Numpy."
   ]
  },
  {
   "cell_type": "code",
   "execution_count": 29,
   "id": "419c468c",
   "metadata": {},
   "outputs": [
    {
     "data": {
      "text/plain": [
       "array([1., 3., 3., 4., 5.])"
      ]
     },
     "execution_count": 29,
     "metadata": {},
     "output_type": "execute_result"
    }
   ],
   "source": [
    "np.percentile(df1[\"Value for the Dollar\"],[0,25,50,75,100])"
   ]
  },
  {
   "cell_type": "markdown",
   "id": "94cc8ff0",
   "metadata": {},
   "source": [
    "#### ● Calculate Range of Value for the Dollar column using Pandas. "
   ]
  },
  {
   "cell_type": "code",
   "execution_count": 30,
   "id": "96128174",
   "metadata": {},
   "outputs": [
    {
     "name": "stdout",
     "output_type": "stream",
     "text": [
      "Range for Value for the Dollar is  4\n"
     ]
    }
   ],
   "source": [
    "range=df1[\"Value for the Dollar\"].max()-df1[\"Value for the Dollar\"].min()\n",
    "print(\"Range for Value for the Dollar is \", range)"
   ]
  },
  {
   "cell_type": "markdown",
   "id": "a343dbb9",
   "metadata": {},
   "source": [
    "#### ● Calculate IQR of Value for the Dollar column using Pandas."
   ]
  },
  {
   "cell_type": "code",
   "execution_count": 31,
   "id": "d5aa0ffb",
   "metadata": {},
   "outputs": [
    {
     "name": "stdout",
     "output_type": "stream",
     "text": [
      "The IQR of Value for the Dollar column is  1.0\n"
     ]
    }
   ],
   "source": [
    "Q3=df1[\"Value for the Dollar\"].quantile(0.75)\n",
    "Q1=df1[\"Value for the Dollar\"].quantile(0.25)\n",
    "IQR= Q3-Q1\n",
    "print(\"The IQR of Value for the Dollar column is \", IQR)"
   ]
  },
  {
   "cell_type": "code",
   "execution_count": null,
   "id": "4335cd4e",
   "metadata": {},
   "outputs": [],
   "source": []
  }
 ],
 "metadata": {
  "kernelspec": {
   "display_name": "Python 3 (ipykernel)",
   "language": "python",
   "name": "python3"
  },
  "language_info": {
   "codemirror_mode": {
    "name": "ipython",
    "version": 3
   },
   "file_extension": ".py",
   "mimetype": "text/x-python",
   "name": "python",
   "nbconvert_exporter": "python",
   "pygments_lexer": "ipython3",
   "version": "3.9.12"
  }
 },
 "nbformat": 4,
 "nbformat_minor": 5
}
